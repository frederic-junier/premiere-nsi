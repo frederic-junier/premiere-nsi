{
 "cells": [
  {
   "cell_type": "code",
   "execution_count": null,
   "metadata": {},
   "outputs": [],
   "source": []
  },
  {
   "cell_type": "markdown",
   "metadata": {},
   "source": [
    "**Exercice 6**\n",
    "\n",
    "*Exercice du manuel de NSI de Thibault Balabonski chez Ellipses*\n",
    "\n",
    "En mathématiques, la [suite de\n",
    "Fibonacci](http://images.math.cnrs.fr/Mysteres-arithmetiques-de-la-suite-de-Fibonacci.html)\n",
    "est une séquence d’entiers définie ainsi : on part des entiers 0 et 1\n",
    "puis on construit à chaque fois l’entier suivant comme la somme des deux\n",
    "précédents :   \n",
    "![0, 1, 1, 2, 3, 5\n",
    "....](https://latex.codecogs.com/png.latex?0%2C%201%2C%201%2C%202%2C%203%2C%205%20....\n",
    "\"0, 1, 1, 2, 3, 5 ....\")  \n",
    "\n",
    "Compléter la fonction `fibonacci(n)` ci-dessous pour qu’elle retourne un\n",
    "tableau contenant les `n` premiers termes de la suite de Fibonacci avec\n",
    "`n` entier supposé supérieur ou égal à 2. Les deux assertions proposées\n",
    "doivent être vérifiées.\n",
    "\n",
    "``` python\n",
    "def fibonacci(n):\n",
    "    #à compléter\n",
    "\n",
    "f6 = fibonacci(6)\n",
    "assert f6 == [0,1, 1, 2,3,5]\n",
    "f30 = fibonacci(30)\n",
    "assert f30[29] == 514229\n",
    "print(\"Tests unitaires réussis !\")```\n"
   ]
  },
  {
   "cell_type": "code",
   "execution_count": 3,
   "metadata": {},
   "outputs": [
    {
     "name": "stdout",
     "output_type": "stream",
     "text": [
      "Tests unitaires réussis !\n"
     ]
    }
   ],
   "source": [
    "def fibonacci(n):\n",
    "    t = [0, 1]\n",
    "    for k in range(n - 2):\n",
    "        t.append(t[len(t)-2] + t[len(t)-1])\n",
    "    return t\n",
    "\n",
    "f6 = fibonacci(6)\n",
    "assert f6 == [0,1, 1, 2,3,5]\n",
    "f30 = fibonacci(30)\n",
    "assert f30[29] == 514229\n",
    "print(\"Tests unitaires réussis !\")"
   ]
  },
  {
   "cell_type": "markdown",
   "metadata": {},
   "source": [
    "## La sous-séquence de plus grande somme (algorithme de Kadane)\n",
    "\n",
    "Sitographie : \n",
    "* <https://people.montefiore.uliege.be/geurts/Cours/sda/2011/06-resolution-a.pdf>\n",
    "* <http://www.xavierdupre.fr/app/ensae_teaching_cs/helpsphinx/notebooks/exercice_plus_grande_somme.html>"
   ]
  },
  {
   "cell_type": "code",
   "execution_count": 25,
   "metadata": {},
   "outputs": [],
   "source": [
    "def sum_subarray(tab, i, j):\n",
    "    assert 0 <= i <= j < len(tab)   # précondition\n",
    "    s = 0\n",
    "    for k in range(i, j + 1):\n",
    "        s = s + tab[k]\n",
    "    return s\n",
    "\n",
    "def maximum_sum_subarray1(tab):\n",
    "    max_sum_global = float('-inf')\n",
    "    for i in range(0, len(tab)):\n",
    "        for j in range(i, len(tab)):\n",
    "            s = sum_subarray(tab, i, j)\n",
    "            if s > max_sum_global:\n",
    "                max_sum_global = s\n",
    "    return max_sum_global\n",
    "\n",
    "\n",
    "def maximum_sum_subarray2(tab):    \n",
    "    max_sum_partial = tab[0]\n",
    "    max_sum_global = max_sum_partial\n",
    "    for k in range(1, len(tab)):\n",
    "        if max_sum_partial > 0:\n",
    "            max_sum_partial = max_sum_partial + tab[k]\n",
    "        else:\n",
    "            max_sum_partial = tab[k]\n",
    "        if max_sum_partial > max_sum_global:\n",
    "            max_sum_global = max_sum_partial\n",
    "    return max_sum_global           "
   ]
  },
  {
   "cell_type": "code",
   "execution_count": 34,
   "metadata": {},
   "outputs": [
    {
     "name": "stdout",
     "output_type": "stream",
     "text": [
      "[-9, 5, -2, -1, -8, 7, 10, -1, 0, 1] 17 17\n",
      "[0, -4, 9, -2, 0, 10, 7, -1, 9, 9] 41 41\n",
      "[3, -9, -5, 4, 5, 5, -10, 9, -2, -8] 14 14\n",
      "[-7, -1, 6, 10, 1, 10, -2, -9, -2, -4] 27 27\n",
      "[3, 4, -7, 8, -6, 6, 2, -3, 0, -3] 10 10\n"
     ]
    }
   ],
   "source": [
    "from random import randint \n",
    "for k in range(5):\n",
    "    tab = [randint(-10,10) for _ in range(10)]\n",
    "    print(tab, maximum_sum_subarray1(tab), maximum_sum_subarray2(tab))"
   ]
  },
  {
   "cell_type": "code",
   "execution_count": 3,
   "metadata": {},
   "outputs": [],
   "source": [
    "from random import randint\n",
    "\n",
    "def tirage_sans_remise(urne):\n",
    "    return tab.pop(randint(0, len(urne)-1))\n",
    "\n",
    "def echantillon_tirage_sans_remise(urne : list, nbtirage : int) -> list:\n",
    "    if nbtirage > len(urne):\n",
    "        return []\n",
    "    echantillon = []\n",
    "    for k in range(nbtirage):\n",
    "        echantillon.append(tirage_sans_remise(urne))\n",
    "    return echantillon"
   ]
  },
  {
   "cell_type": "markdown",
   "metadata": {},
   "source": [
    "**Exercice 9**\n",
    "\n",
    "  - **Énoncé :**\n",
    "\n",
    "Comme le disait le grand-père de Joseph Marchand, « Le plus beau voyage\n",
    "est celui qu’on n’a pas encore fait ». New York était dans la tête de\n",
    "Joseph depuis plusieurs années maintenant, et il a décidé aujourd’hui\n",
    "d’acheter son billet d’avion.\n",
    "\n",
    "Quelques secondes avant de cliquer sur le bouton « Acheter \\! », son\n",
    "amie Haruhi lui envoie une liste de prix qu’elle a trouvés sur Internet.\n",
    "Joseph est curieux de voir si ces derniers sont moins chers que le\n",
    "billet qu’il s’apprêtait à acheter.\n",
    "\n",
    "  - **Entrée :**\n",
    "\n",
    "Sur la première ligne le prix initial du billet de Joseph.\n",
    "\n",
    "Sur la deuxième ligne un entier N , correspondant au nombre de billets\n",
    "envoyés par Haruhi. La ligne suivante contient les N prix trouvés par\n",
    "Haruhi.\n",
    "\n",
    "  - **Sortie :**\n",
    "\n",
    "Si Haruhi a trouvé au moins 3 prix strictement moins chers que celui de\n",
    "Joseph, affichez « ARNAQUE \\! » pour l’avertir. Sinon « Ok bon voyage,\n",
    "bisous, n’oublie pas de m’envoyer des photos \\! ».\n",
    "\n",
    "  - Exemple 1 :\n",
    "    \n",
    "      - Entrée :\n",
    "        \n",
    "            570\n",
    "            4\n",
    "            495 1200 540 450\n",
    "    \n",
    "      - Sortie :\n",
    "        \n",
    "            ARNAQUE !\n",
    "\n",
    "  - Exemple 2:\n",
    "    \n",
    "      - Entrée :\n",
    "        \n",
    "            820\n",
    "            5\n",
    "            580 2000 970 1050 820\n",
    "    \n",
    "      - Sortie :\n",
    "    \n",
    "    <!-- end list -->\n",
    "    \n",
    "        Ok bon voyage, bisous, n'oublie pas de m'envoyer des photos !"
   ]
  },
  {
   "cell_type": "code",
   "execution_count": 13,
   "metadata": {},
   "outputs": [
    {
     "name": "stdout",
     "output_type": "stream",
     "text": [
      "ARNAQUE !\n",
      "Ok bon voyage, bisous, n'oublie pas de m'envoyer des photos !\n",
      "Tests unitaires réussis !\n"
     ]
    }
   ],
   "source": [
    "def arnaque(inputfile):\n",
    "    \"\"\"Résolution du problème \n",
    "    https://prologin.org/train/2019/qualification/arnaque_aerienne\"\"\"\n",
    "    f = open(inputfile)  #ouverture du  fichier d'entrée\n",
    "    joseph = int(f.readline())\n",
    "    N = int(f.readline())\n",
    "    listeprix = [int(champ) for champ in f.readline().split()]\n",
    "    f.close() \n",
    "    c = 0\n",
    "    for prix in listeprix:\n",
    "        if prix < joseph:\n",
    "            c = c + 1\n",
    "    if c >= 3:\n",
    "        print(\"ARNAQUE !\")\n",
    "        return 1\n",
    "    else:\n",
    "        print(\"Ok bon voyage, bisous, n'oublie pas de m'envoyer des photos !\")\n",
    "        return 0\n",
    "     \n",
    "    \n",
    "assert arnaque('arnaque-exemple1.txt') == 1\n",
    "assert arnaque('arnaque-exemple2.txt') == 0\n",
    "print(\"Tests unitaires réussis !\")"
   ]
  }
 ],
 "metadata": {
  "kernelspec": {
   "display_name": "Python 3",
   "language": "python",
   "name": "python3"
  },
  "language_info": {
   "codemirror_mode": {
    "name": "ipython",
    "version": 3
   },
   "file_extension": ".py",
   "mimetype": "text/x-python",
   "name": "python",
   "nbconvert_exporter": "python",
   "pygments_lexer": "ipython3",
   "version": "3.8.2"
  }
 },
 "nbformat": 4,
 "nbformat_minor": 4
}
